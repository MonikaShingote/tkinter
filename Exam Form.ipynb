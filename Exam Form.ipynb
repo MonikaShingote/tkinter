{
 "cells": [
  {
   "cell_type": "code",
   "execution_count": 1,
   "id": "a61eba4c",
   "metadata": {},
   "outputs": [],
   "source": [
    "from tkinter import *\n",
    "import tkinter.messagebox as tmsg"
   ]
  },
  {
   "cell_type": "code",
   "execution_count": 37,
   "id": "2db42a87",
   "metadata": {},
   "outputs": [],
   "source": [
    "root=Tk()\n",
    "root.title('Exam form')\n",
    "root.geometry('500x500')\n",
    "\n",
    "def ans():\n",
    "        if var.get()=='arjun':\n",
    "            tmsg.showinfo('Correct Answer','arjun is absolutely correct answer.')\n",
    "        else:\n",
    "            tmsg.showinfo('Wrong Answer','Wrong Answer, correct answer is arjun')\n",
    "def ans2():\n",
    "    if var2.get()=='shreeram':\n",
    "        tmsg.showinfo('Correct Answer','shreeram is absolutely correct answer.')\n",
    "    else:\n",
    "        tmsg.showinfo('Wrong Answer','Wrong Answer, correct answer is shreeram')\n",
    "def ans3():\n",
    "    if var3.get()=='sita':\n",
    "        tmsg.showinfo('Correct Answer','sita is absolutely correct answer.')\n",
    "    else:\n",
    "        tmsg.showinfo('Wrong Answer','Wrong Answer, correct answer is sita')\n",
    "def result():\n",
    "    if var.get()=='arjun' and var2.get()=='shreeram' and var3.get()=='sita':\n",
    "                tmsg.showinfo('final result','you got full marks')\n",
    "    else:\n",
    "        tmsg.showinfo('final result','you clicked some wrong answers')\n",
    "    \n",
    "Label(root,text='PAPER : General Studies',font='lucida 15 bold').pack()\n",
    "\n",
    "Label(root,text='1. Bhagwatgita is a conversation between shree krishna and whom?',font='lucida 10 bold').pack()\n",
    "var=StringVar()\n",
    "var.set('gita')\n",
    "namelist=['ram','arjun','karn','baldev']\n",
    "for i in namelist:\n",
    "    radio=Radiobutton(root,text=i,padx=10,variable=var,value=i).pack(anchor='w')\n",
    "Button(root,text='Submit',command=ans).pack()\n",
    "\n",
    "Label(root,text='2.Hanumanji worship which god?',font='lucida 10 bold').pack()\n",
    "var2=StringVar()\n",
    "var2.set('gita')\n",
    "namelist=['shreeram','mahadev','krishna','baldev']\n",
    "for i in namelist:\n",
    "    radio=Radiobutton(root,text=i,padx=10,variable=var2,value=i).pack(anchor='w')\n",
    "Button(root,text='Submit',command=ans2).pack()\n",
    "\n",
    "\n",
    "Label(root,text='3.who is wife of lord ram?',font='lucida 10 bold').pack()\n",
    "var3=StringVar()\n",
    "var3.set('gita')\n",
    "namelist=['sita','rukmini','draupadi','parvati']\n",
    "for i in namelist:\n",
    "    radio=Radiobutton(root,text=i,padx=10,variable=var3,value=i).pack(anchor='w')\n",
    "Button(root,text='Submit',command=ans3).pack()\n",
    "Button(root,text='Final Result',command=result).pack()\n",
    "root.mainloop()"
   ]
  },
  {
   "cell_type": "code",
   "execution_count": null,
   "id": "e336095d",
   "metadata": {},
   "outputs": [],
   "source": []
  }
 ],
 "metadata": {
  "kernelspec": {
   "display_name": "Python 3 (ipykernel)",
   "language": "python",
   "name": "python3"
  },
  "language_info": {
   "codemirror_mode": {
    "name": "ipython",
    "version": 3
   },
   "file_extension": ".py",
   "mimetype": "text/x-python",
   "name": "python",
   "nbconvert_exporter": "python",
   "pygments_lexer": "ipython3",
   "version": "3.9.12"
  }
 },
 "nbformat": 4,
 "nbformat_minor": 5
}
