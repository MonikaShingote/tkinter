{
 "cells": [
  {
   "cell_type": "code",
   "execution_count": 1,
   "id": "790bb77a",
   "metadata": {},
   "outputs": [],
   "source": [
    "from tkinter import *"
   ]
  },
  {
   "cell_type": "code",
   "execution_count": 7,
   "id": "fafe86f5",
   "metadata": {},
   "outputs": [],
   "source": [
    "root=Tk()\n",
    "root.title('UPDATE GUI SIZE')\n",
    "root.geometry('200x80')\n",
    "\n",
    "#creating update function\n",
    "def update():\n",
    "    root.geometry(f'{widthvalue.get()}x{heightvalue.get()}')\n",
    "\n",
    "#text for our form\n",
    "width=Label(root,text='Width')\n",
    "height=Label(root,text='Height')\n",
    "#pack text\n",
    "width.grid(row=1,column=2)\n",
    "height.grid(row=2,column=2)\n",
    "\n",
    "#tkinter variable for storing entries\n",
    "widthvalue=StringVar()\n",
    "heightvalue=StringVar()\n",
    "#user entries for our form\n",
    "widthentry=Entry(root,textvariable=widthvalue)\n",
    "heightentry=Entry(root,textvariable=heightvalue)\n",
    "#packing entries\n",
    "widthentry.grid(row=1,column=3)\n",
    "heightentry.grid(row=2,column=3)\n",
    "\n",
    "#creating button\n",
    "Button(root,text='Apply',command=update).grid(row=3,column=3)\n",
    "\n",
    "root.mainloop()"
   ]
  },
  {
   "cell_type": "code",
   "execution_count": null,
   "id": "b5fbb3cc",
   "metadata": {},
   "outputs": [],
   "source": []
  }
 ],
 "metadata": {
  "kernelspec": {
   "display_name": "Python 3 (ipykernel)",
   "language": "python",
   "name": "python3"
  },
  "language_info": {
   "codemirror_mode": {
    "name": "ipython",
    "version": 3
   },
   "file_extension": ".py",
   "mimetype": "text/x-python",
   "name": "python",
   "nbconvert_exporter": "python",
   "pygments_lexer": "ipython3",
   "version": "3.9.12"
  }
 },
 "nbformat": 4,
 "nbformat_minor": 5
}
