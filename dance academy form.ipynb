{
 "cells": [
  {
   "cell_type": "raw",
   "id": "5c522373",
   "metadata": {},
   "source": [
    "i have created GUI by using tkinter for Dance academy form."
   ]
  },
  {
   "cell_type": "code",
   "execution_count": 2,
   "id": "4e5e0753",
   "metadata": {},
   "outputs": [],
   "source": [
    "from tkinter import *\n",
    "\n",
    "root=Tk()\n",
    "root.geometry('500x250')\n",
    "root.title('DANCE ACADEMY FORM')\n",
    "\n",
    "label=Label(root,text='DANCE ACADEMY FORM',bg='purple',fg='white',font=\"PerpetuaTitlingMT 25 bold underline\",padx=5,pady=5,relief=SUNKEN)\n",
    "label.grid(column=1)\n",
    "\n",
    "#creating labels\n",
    "name=Label(root,text='NAME : ').grid(row=8)\n",
    "dob=Label(root,text='DOB : ').grid(row=9)\n",
    "age=Label(root,text='AGE : ').grid(row=10)\n",
    "address=Label(root,text='ADDRESS : ').grid(row=11)\n",
    "mobile=Label(root,text='MOBILE : ').grid(row=12)\n",
    "fees=Label(root,text='FEES : ').grid(row=13)\n",
    "\n",
    "#assigning variabletype\n",
    "nameval = StringVar()\n",
    "dobval = StringVar()\n",
    "ageval = StringVar()\n",
    "addval= StringVar()\n",
    "mobval= StringVar()\n",
    "feesval= StringVar()\n",
    "\n",
    "#using entry widget\n",
    "name_entry = Entry(root, textvariable = nameval)\n",
    "dob_entry = Entry(root, textvariable = dobval)\n",
    "age_entry = Entry(root, textvariable = ageval)\n",
    "address_entry = Entry(root, textvariable = addval)\n",
    "mob_entry = Entry(root, textvariable = mobval)\n",
    "fees_entry = Entry(root, textvariable = feesval)\n",
    "\n",
    "name_entry.grid(row=8, column=1)\n",
    "dob_entry.grid(row=9, column=1)\n",
    "age_entry.grid(row=10, column=1)\n",
    "address_entry.grid(row=11, column=1)\n",
    "mob_entry.grid(row=12, column=1)\n",
    "fees_entry.grid(row=13, column=1)\n",
    "\n",
    "#saving info in txt file\n",
    "def save():\n",
    "    f = open(\"form.txt\", \"a\")\n",
    "    f.write(f\"Name: {nameval.get()}\\n\")\n",
    "    f.write(f\"DOB: {dobval.get()}\\n\")\n",
    "    f.write(f\"Age: {ageval.get()}\\n\")\n",
    "    f.write(f\"Address: {addval.get()}\\n\")\n",
    "    f.write(f\"Mob: {mobval.get()}\\n\")\n",
    "    f.write(f\"Fees: {feesval.get()}\\n\\n\")\n",
    "    f.close()\n",
    "    root.destroy()\n",
    "    \n",
    "#creating submit button\n",
    "Button(root, text=\"Submit\", command=save).grid(column=1)\n",
    "\n",
    "root.mainloop()"
   ]
  }
 ],
 "metadata": {
  "kernelspec": {
   "display_name": "Python 3 (ipykernel)",
   "language": "python",
   "name": "python3"
  },
  "language_info": {
   "codemirror_mode": {
    "name": "ipython",
    "version": 3
   },
   "file_extension": ".py",
   "mimetype": "text/x-python",
   "name": "python",
   "nbconvert_exporter": "python",
   "pygments_lexer": "ipython3",
   "version": "3.9.12"
  }
 },
 "nbformat": 4,
 "nbformat_minor": 5
}
