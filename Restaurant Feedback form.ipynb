{
 "cells": [
  {
   "cell_type": "code",
   "execution_count": 11,
   "id": "1a2a7f13",
   "metadata": {},
   "outputs": [],
   "source": [
    "from tkinter import *\n",
    "import tkinter.messagebox as tmsg"
   ]
  },
  {
   "cell_type": "code",
   "execution_count": 101,
   "id": "9d1f2fcb",
   "metadata": {},
   "outputs": [
    {
     "name": "stdout",
     "output_type": "stream",
     "text": [
      "yes\n"
     ]
    }
   ],
   "source": [
    "root=Tk()\n",
    "root.title('Chulha Rest. feedback form')\n",
    "root.geometry('600x270')\n",
    "\n",
    "\n",
    "def experience():\n",
    "    value=tmsg.askquestion('experience',' was your overall experience in chulha Amazing?')\n",
    "    print(value)\n",
    "    if value=='yes':\n",
    "        msg='Great!! we would like to see you again'\n",
    "    else:\n",
    "        msg='please tell us what we can improve'\n",
    "    tmsg.showinfo('experience',msg)\n",
    "def rate():\n",
    "    tmsg.showinfo('rate us',f'Thank you for rating us {myslider.get()} ')\n",
    "def save():\n",
    "    f = open(\"chulha.csv\", \"a\")\n",
    "    f.write(f\"Name: {namevalue.get()}\\n\")\n",
    "    f.write(f\"Address: {addvalue.get()}\\n\")\n",
    "    f.write(f\"Mob: {mobvalue.get()}\\n\")\n",
    "    f.write(f\"Rate: {myslider.get()}\\n\")\n",
    "    f.write(f\"feedback: {thevalue.get()}\\n\\n\")\n",
    "    f.close()\n",
    "    root.destroy()\n",
    "\n",
    "#creating frame    \n",
    "frame1=Frame(root, borderwidth=9, bg='green',relief=SUNKEN)\n",
    "frame1.pack(side='top',fill='x')\n",
    "\n",
    "frame2=Frame(root, borderwidth=9, bg='grey',relief=SUNKEN)\n",
    "frame2.pack(side='left',fill='y')\n",
    "\n",
    "frame3=Frame(root, borderwidth=9, bg='grey',relief=SUNKEN)\n",
    "frame3.pack(side='top',fill='x')\n",
    "\n",
    "frame4=Frame(root, borderwidth=9, bg='grey',relief=SUNKEN)\n",
    "frame4.pack(side='bottom',fill='x')\n",
    "Label(frame4,text='Visit Us Again',font='Helvetica 16 bold',bg='grey',fg='white').pack()\n",
    "Button(frame4,text='Submit',pady=5,command=save).pack(side='top')\n",
    "#adding labels\n",
    "\n",
    "l1=Label(frame1,text='Welcome to Chulha restaurant',font='Helvetica 16 bold',bg='green',fg='white',pady=10)\n",
    "l1.pack()\n",
    "\n",
    "Label(frame3,text='How was your overall experience in chulha?',font='Helvetica 9 bold',bg='grey',fg='white').pack()\n",
    "myslider=Scale(frame3,from_=0,to=5,orient=HORIZONTAL,tickinterval=1)\n",
    "myslider.set(3)#set initial value\n",
    "myslider.pack()\n",
    "Button(frame3,text='Confirm',command=rate,pady=5).pack()\n",
    "\n",
    "l3=Label(frame2,text=\"Give us feedback\",font='Helvetica 10 bold',bg='grey',fg='white')\n",
    "l3.grid(row=1)\n",
    "Label(frame2,text='Name : ',bg='grey',fg='white').grid(column=0,row=3)\n",
    "namevalue = StringVar()                                         # defining entry var \n",
    "name_entry = Entry(frame2, textvariable = namevalue)              # Entry Var\n",
    "name_entry.grid(column=1, row = 3) \n",
    "\n",
    "Label(frame2,text='Address : ',bg='grey',fg='white').grid(column=0,row=5)\n",
    "addvalue = StringVar()                                         \n",
    "name_entry = Entry(frame2, textvariable = addvalue)              \n",
    "name_entry.grid(column=1, row = 5 ) \n",
    "\n",
    "\n",
    "Label(frame2,text='Mobile : ',bg='grey',fg='white').grid(column=0,row=6)\n",
    "mobvalue = StringVar()                                         \n",
    "name_entry = Entry(frame2, textvariable = mobvalue)              \n",
    "name_entry.grid(column=1, row = 6) \n",
    "\n",
    "\n",
    "Label(frame2,text='write down your thoughts : ',bg='grey',fg='white').grid(column=0,row=11)\n",
    "thevalue = StringVar()                                         \n",
    "name_entry = Entry(frame2, textvariable = thevalue)              \n",
    "name_entry.grid(column=1, row = 11) \n",
    "\n",
    "Button(frame2,text='Feedback',command=experience,pady=5).grid(row=12)\n",
    "root.mainloop()\n"
   ]
  }
 ],
 "metadata": {
  "kernelspec": {
   "display_name": "Python 3 (ipykernel)",
   "language": "python",
   "name": "python3"
  },
  "language_info": {
   "codemirror_mode": {
    "name": "ipython",
    "version": 3
   },
   "file_extension": ".py",
   "mimetype": "text/x-python",
   "name": "python",
   "nbconvert_exporter": "python",
   "pygments_lexer": "ipython3",
   "version": "3.9.12"
  }
 },
 "nbformat": 4,
 "nbformat_minor": 5
}
